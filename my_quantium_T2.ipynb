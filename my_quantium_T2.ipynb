{
  "nbformat": 4,
  "nbformat_minor": 0,
  "metadata": {
    "colab": {
      "provenance": [],
      "mount_file_id": "16dYZxv16cfptRppQXQgUe9-IVYzatir4",
      "authorship_tag": "ABX9TyPQWShlPeLg2pfD/Og39qxZ",
      "include_colab_link": true
    },
    "kernelspec": {
      "name": "python3",
      "display_name": "Python 3"
    },
    "language_info": {
      "name": "python"
    }
  },
  "cells": [
    {
      "cell_type": "markdown",
      "metadata": {
        "id": "view-in-github",
        "colab_type": "text"
      },
      "source": [
        "<a href=\"https://colab.research.google.com/github/wa-le/Quantium-Forage-Virtual-Internship/blob/master/my_quantium_T2.ipynb\" target=\"_parent\"><img src=\"https://colab.research.google.com/assets/colab-badge.svg\" alt=\"Open In Colab\"/></a>"
      ]
    },
    {
      "cell_type": "markdown",
      "source": [
        "[ipynb file here](https://github.com/wa-le/Quantium-Forage-Virtual-Internship/blob/master/my_quantium_T2.ipynb)"
      ],
      "metadata": {
        "id": "nm781Y1XSq5S"
      }
    },
    {
      "cell_type": "code",
      "execution_count": 1,
      "metadata": {
        "colab": {
          "base_uri": "https://localhost:8080/"
        },
        "id": "q3I3w41lSak5",
        "outputId": "148d98e5-715b-4c31-f6c2-0285ce408d11"
      },
      "outputs": [
        {
          "output_type": "stream",
          "name": "stdout",
          "text": [
            "Looking in indexes: https://pypi.org/simple, https://us-python.pkg.dev/colab-wheels/public/simple/\n",
            "Collecting squarify\n",
            "  Downloading squarify-0.4.3-py3-none-any.whl (4.3 kB)\n",
            "Installing collected packages: squarify\n",
            "Successfully installed squarify-0.4.3\n"
          ]
        }
      ],
      "source": [
        "!pip install squarify"
      ]
    },
    {
      "cell_type": "code",
      "source": [
        "#import libraries\n",
        "import pandas as pd\n",
        "import numpy as np\n",
        "import matplotlib.pyplot as plt\n",
        "import seaborn as sns\n",
        "sns.set()\n",
        "%matplotlib inline\n",
        "import squarify as sq"
      ],
      "metadata": {
        "id": "TKno1HSNSwe9"
      },
      "execution_count": 2,
      "outputs": []
    },
    {
      "cell_type": "code",
      "source": [
        "# import and load the dataset\n",
        "data = pd.read_csv(\"/content/drive/MyDrive/Data/Quantium Forage/chips_trans.csv\")\n",
        "data"
      ],
      "metadata": {
        "colab": {
          "base_uri": "https://localhost:8080/",
          "height": 710
        },
        "id": "SkzatiNqSwmS",
        "outputId": "da4897bc-2649-4d59-8fdd-a2e319df3137"
      },
      "execution_count": 3,
      "outputs": [
        {
          "output_type": "execute_result",
          "data": {
            "text/plain": [
              "        Unnamed: 0        DATE  STORE_NBR  LYLTY_CARD_NBR  TXN_ID  PROD_NBR  \\\n",
              "0                0  2018-10-17          1            1000       1         5   \n",
              "1                1  2019-05-14          1            1307     348        66   \n",
              "2                2  2019-05-20          1            1343     383        61   \n",
              "3                3  2018-08-17          2            2373     974        69   \n",
              "4                4  2018-08-18          2            2426    1038       108   \n",
              "...            ...         ...        ...             ...     ...       ...   \n",
              "264828      264828  2019-03-09        272          272319  270088        89   \n",
              "264829      264829  2018-08-13        272          272358  270154        74   \n",
              "264830      264830  2018-11-06        272          272379  270187        51   \n",
              "264831      264831  2018-12-27        272          272379  270188        42   \n",
              "264832      264832  2018-09-22        272          272380  270189        74   \n",
              "\n",
              "                                       PROD_NAME  PROD_QTY  TOT_SALES  \\\n",
              "0         Natural Chip        Compny SeaSalt175g         2        6.0   \n",
              "1                       CCs Nacho Cheese    175g         3        6.3   \n",
              "2         Smiths Crinkle Cut  Chips Chicken 170g         2        2.9   \n",
              "3         Smiths Chip Thinly  S/Cream&Onion 175g         5       15.0   \n",
              "4       Kettle Tortilla ChpsHny&Jlpno Chili 150g         3       13.8   \n",
              "...                                          ...       ...        ...   \n",
              "264828   Kettle Sweet Chilli And Sour Cream 175g         2       10.8   \n",
              "264829             Tostitos Splash Of  Lime 175g         1        4.4   \n",
              "264830                  Doritos Mexicana    170g         2        8.8   \n",
              "264831   Doritos Corn Chip Mexican Jalapeno 150g         2        7.8   \n",
              "264832             Tostitos Splash Of  Lime 175g         2        8.8   \n",
              "\n",
              "                     LIFESTAGE PREMIUM_CUSTOMER PACK_SIZE       BRAND_NAME  \\\n",
              "0        YOUNG SINGLES/COUPLES          Premium      175g  Natural Chip Co   \n",
              "1       MIDAGE SINGLES/COUPLES           Budget      175g              CCs   \n",
              "2       MIDAGE SINGLES/COUPLES           Budget      170g           Smiths   \n",
              "3       MIDAGE SINGLES/COUPLES           Budget      175g           Smiths   \n",
              "4       MIDAGE SINGLES/COUPLES           Budget      150g           Kettle   \n",
              "...                        ...              ...       ...              ...   \n",
              "264828   YOUNG SINGLES/COUPLES          Premium      175g           Kettle   \n",
              "264829   YOUNG SINGLES/COUPLES          Premium      175g         Tostitos   \n",
              "264830   YOUNG SINGLES/COUPLES          Premium      170g          Doritos   \n",
              "264831   YOUNG SINGLES/COUPLES          Premium      150g          Doritos   \n",
              "264832   YOUNG SINGLES/COUPLES          Premium      175g         Tostitos   \n",
              "\n",
              "             DATE_BINS  \n",
              "0         October 2018  \n",
              "1             May 2019  \n",
              "2             May 2019  \n",
              "3          August 2018  \n",
              "4          August 2018  \n",
              "...                ...  \n",
              "264828      March 2019  \n",
              "264829     August 2018  \n",
              "264830   November 2018  \n",
              "264831   December 2018  \n",
              "264832  September 2018  \n",
              "\n",
              "[264833 rows x 14 columns]"
            ],
            "text/html": [
              "\n",
              "  <div id=\"df-c7005eff-bf3b-4667-a78c-4982393cfef7\">\n",
              "    <div class=\"colab-df-container\">\n",
              "      <div>\n",
              "<style scoped>\n",
              "    .dataframe tbody tr th:only-of-type {\n",
              "        vertical-align: middle;\n",
              "    }\n",
              "\n",
              "    .dataframe tbody tr th {\n",
              "        vertical-align: top;\n",
              "    }\n",
              "\n",
              "    .dataframe thead th {\n",
              "        text-align: right;\n",
              "    }\n",
              "</style>\n",
              "<table border=\"1\" class=\"dataframe\">\n",
              "  <thead>\n",
              "    <tr style=\"text-align: right;\">\n",
              "      <th></th>\n",
              "      <th>Unnamed: 0</th>\n",
              "      <th>DATE</th>\n",
              "      <th>STORE_NBR</th>\n",
              "      <th>LYLTY_CARD_NBR</th>\n",
              "      <th>TXN_ID</th>\n",
              "      <th>PROD_NBR</th>\n",
              "      <th>PROD_NAME</th>\n",
              "      <th>PROD_QTY</th>\n",
              "      <th>TOT_SALES</th>\n",
              "      <th>LIFESTAGE</th>\n",
              "      <th>PREMIUM_CUSTOMER</th>\n",
              "      <th>PACK_SIZE</th>\n",
              "      <th>BRAND_NAME</th>\n",
              "      <th>DATE_BINS</th>\n",
              "    </tr>\n",
              "  </thead>\n",
              "  <tbody>\n",
              "    <tr>\n",
              "      <th>0</th>\n",
              "      <td>0</td>\n",
              "      <td>2018-10-17</td>\n",
              "      <td>1</td>\n",
              "      <td>1000</td>\n",
              "      <td>1</td>\n",
              "      <td>5</td>\n",
              "      <td>Natural Chip        Compny SeaSalt175g</td>\n",
              "      <td>2</td>\n",
              "      <td>6.0</td>\n",
              "      <td>YOUNG SINGLES/COUPLES</td>\n",
              "      <td>Premium</td>\n",
              "      <td>175g</td>\n",
              "      <td>Natural Chip Co</td>\n",
              "      <td>October 2018</td>\n",
              "    </tr>\n",
              "    <tr>\n",
              "      <th>1</th>\n",
              "      <td>1</td>\n",
              "      <td>2019-05-14</td>\n",
              "      <td>1</td>\n",
              "      <td>1307</td>\n",
              "      <td>348</td>\n",
              "      <td>66</td>\n",
              "      <td>CCs Nacho Cheese    175g</td>\n",
              "      <td>3</td>\n",
              "      <td>6.3</td>\n",
              "      <td>MIDAGE SINGLES/COUPLES</td>\n",
              "      <td>Budget</td>\n",
              "      <td>175g</td>\n",
              "      <td>CCs</td>\n",
              "      <td>May 2019</td>\n",
              "    </tr>\n",
              "    <tr>\n",
              "      <th>2</th>\n",
              "      <td>2</td>\n",
              "      <td>2019-05-20</td>\n",
              "      <td>1</td>\n",
              "      <td>1343</td>\n",
              "      <td>383</td>\n",
              "      <td>61</td>\n",
              "      <td>Smiths Crinkle Cut  Chips Chicken 170g</td>\n",
              "      <td>2</td>\n",
              "      <td>2.9</td>\n",
              "      <td>MIDAGE SINGLES/COUPLES</td>\n",
              "      <td>Budget</td>\n",
              "      <td>170g</td>\n",
              "      <td>Smiths</td>\n",
              "      <td>May 2019</td>\n",
              "    </tr>\n",
              "    <tr>\n",
              "      <th>3</th>\n",
              "      <td>3</td>\n",
              "      <td>2018-08-17</td>\n",
              "      <td>2</td>\n",
              "      <td>2373</td>\n",
              "      <td>974</td>\n",
              "      <td>69</td>\n",
              "      <td>Smiths Chip Thinly  S/Cream&amp;Onion 175g</td>\n",
              "      <td>5</td>\n",
              "      <td>15.0</td>\n",
              "      <td>MIDAGE SINGLES/COUPLES</td>\n",
              "      <td>Budget</td>\n",
              "      <td>175g</td>\n",
              "      <td>Smiths</td>\n",
              "      <td>August 2018</td>\n",
              "    </tr>\n",
              "    <tr>\n",
              "      <th>4</th>\n",
              "      <td>4</td>\n",
              "      <td>2018-08-18</td>\n",
              "      <td>2</td>\n",
              "      <td>2426</td>\n",
              "      <td>1038</td>\n",
              "      <td>108</td>\n",
              "      <td>Kettle Tortilla ChpsHny&amp;Jlpno Chili 150g</td>\n",
              "      <td>3</td>\n",
              "      <td>13.8</td>\n",
              "      <td>MIDAGE SINGLES/COUPLES</td>\n",
              "      <td>Budget</td>\n",
              "      <td>150g</td>\n",
              "      <td>Kettle</td>\n",
              "      <td>August 2018</td>\n",
              "    </tr>\n",
              "    <tr>\n",
              "      <th>...</th>\n",
              "      <td>...</td>\n",
              "      <td>...</td>\n",
              "      <td>...</td>\n",
              "      <td>...</td>\n",
              "      <td>...</td>\n",
              "      <td>...</td>\n",
              "      <td>...</td>\n",
              "      <td>...</td>\n",
              "      <td>...</td>\n",
              "      <td>...</td>\n",
              "      <td>...</td>\n",
              "      <td>...</td>\n",
              "      <td>...</td>\n",
              "      <td>...</td>\n",
              "    </tr>\n",
              "    <tr>\n",
              "      <th>264828</th>\n",
              "      <td>264828</td>\n",
              "      <td>2019-03-09</td>\n",
              "      <td>272</td>\n",
              "      <td>272319</td>\n",
              "      <td>270088</td>\n",
              "      <td>89</td>\n",
              "      <td>Kettle Sweet Chilli And Sour Cream 175g</td>\n",
              "      <td>2</td>\n",
              "      <td>10.8</td>\n",
              "      <td>YOUNG SINGLES/COUPLES</td>\n",
              "      <td>Premium</td>\n",
              "      <td>175g</td>\n",
              "      <td>Kettle</td>\n",
              "      <td>March 2019</td>\n",
              "    </tr>\n",
              "    <tr>\n",
              "      <th>264829</th>\n",
              "      <td>264829</td>\n",
              "      <td>2018-08-13</td>\n",
              "      <td>272</td>\n",
              "      <td>272358</td>\n",
              "      <td>270154</td>\n",
              "      <td>74</td>\n",
              "      <td>Tostitos Splash Of  Lime 175g</td>\n",
              "      <td>1</td>\n",
              "      <td>4.4</td>\n",
              "      <td>YOUNG SINGLES/COUPLES</td>\n",
              "      <td>Premium</td>\n",
              "      <td>175g</td>\n",
              "      <td>Tostitos</td>\n",
              "      <td>August 2018</td>\n",
              "    </tr>\n",
              "    <tr>\n",
              "      <th>264830</th>\n",
              "      <td>264830</td>\n",
              "      <td>2018-11-06</td>\n",
              "      <td>272</td>\n",
              "      <td>272379</td>\n",
              "      <td>270187</td>\n",
              "      <td>51</td>\n",
              "      <td>Doritos Mexicana    170g</td>\n",
              "      <td>2</td>\n",
              "      <td>8.8</td>\n",
              "      <td>YOUNG SINGLES/COUPLES</td>\n",
              "      <td>Premium</td>\n",
              "      <td>170g</td>\n",
              "      <td>Doritos</td>\n",
              "      <td>November 2018</td>\n",
              "    </tr>\n",
              "    <tr>\n",
              "      <th>264831</th>\n",
              "      <td>264831</td>\n",
              "      <td>2018-12-27</td>\n",
              "      <td>272</td>\n",
              "      <td>272379</td>\n",
              "      <td>270188</td>\n",
              "      <td>42</td>\n",
              "      <td>Doritos Corn Chip Mexican Jalapeno 150g</td>\n",
              "      <td>2</td>\n",
              "      <td>7.8</td>\n",
              "      <td>YOUNG SINGLES/COUPLES</td>\n",
              "      <td>Premium</td>\n",
              "      <td>150g</td>\n",
              "      <td>Doritos</td>\n",
              "      <td>December 2018</td>\n",
              "    </tr>\n",
              "    <tr>\n",
              "      <th>264832</th>\n",
              "      <td>264832</td>\n",
              "      <td>2018-09-22</td>\n",
              "      <td>272</td>\n",
              "      <td>272380</td>\n",
              "      <td>270189</td>\n",
              "      <td>74</td>\n",
              "      <td>Tostitos Splash Of  Lime 175g</td>\n",
              "      <td>2</td>\n",
              "      <td>8.8</td>\n",
              "      <td>YOUNG SINGLES/COUPLES</td>\n",
              "      <td>Premium</td>\n",
              "      <td>175g</td>\n",
              "      <td>Tostitos</td>\n",
              "      <td>September 2018</td>\n",
              "    </tr>\n",
              "  </tbody>\n",
              "</table>\n",
              "<p>264833 rows × 14 columns</p>\n",
              "</div>\n",
              "      <button class=\"colab-df-convert\" onclick=\"convertToInteractive('df-c7005eff-bf3b-4667-a78c-4982393cfef7')\"\n",
              "              title=\"Convert this dataframe to an interactive table.\"\n",
              "              style=\"display:none;\">\n",
              "        \n",
              "  <svg xmlns=\"http://www.w3.org/2000/svg\" height=\"24px\"viewBox=\"0 0 24 24\"\n",
              "       width=\"24px\">\n",
              "    <path d=\"M0 0h24v24H0V0z\" fill=\"none\"/>\n",
              "    <path d=\"M18.56 5.44l.94 2.06.94-2.06 2.06-.94-2.06-.94-.94-2.06-.94 2.06-2.06.94zm-11 1L8.5 8.5l.94-2.06 2.06-.94-2.06-.94L8.5 2.5l-.94 2.06-2.06.94zm10 10l.94 2.06.94-2.06 2.06-.94-2.06-.94-.94-2.06-.94 2.06-2.06.94z\"/><path d=\"M17.41 7.96l-1.37-1.37c-.4-.4-.92-.59-1.43-.59-.52 0-1.04.2-1.43.59L10.3 9.45l-7.72 7.72c-.78.78-.78 2.05 0 2.83L4 21.41c.39.39.9.59 1.41.59.51 0 1.02-.2 1.41-.59l7.78-7.78 2.81-2.81c.8-.78.8-2.07 0-2.86zM5.41 20L4 18.59l7.72-7.72 1.47 1.35L5.41 20z\"/>\n",
              "  </svg>\n",
              "      </button>\n",
              "      \n",
              "  <style>\n",
              "    .colab-df-container {\n",
              "      display:flex;\n",
              "      flex-wrap:wrap;\n",
              "      gap: 12px;\n",
              "    }\n",
              "\n",
              "    .colab-df-convert {\n",
              "      background-color: #E8F0FE;\n",
              "      border: none;\n",
              "      border-radius: 50%;\n",
              "      cursor: pointer;\n",
              "      display: none;\n",
              "      fill: #1967D2;\n",
              "      height: 32px;\n",
              "      padding: 0 0 0 0;\n",
              "      width: 32px;\n",
              "    }\n",
              "\n",
              "    .colab-df-convert:hover {\n",
              "      background-color: #E2EBFA;\n",
              "      box-shadow: 0px 1px 2px rgba(60, 64, 67, 0.3), 0px 1px 3px 1px rgba(60, 64, 67, 0.15);\n",
              "      fill: #174EA6;\n",
              "    }\n",
              "\n",
              "    [theme=dark] .colab-df-convert {\n",
              "      background-color: #3B4455;\n",
              "      fill: #D2E3FC;\n",
              "    }\n",
              "\n",
              "    [theme=dark] .colab-df-convert:hover {\n",
              "      background-color: #434B5C;\n",
              "      box-shadow: 0px 1px 3px 1px rgba(0, 0, 0, 0.15);\n",
              "      filter: drop-shadow(0px 1px 2px rgba(0, 0, 0, 0.3));\n",
              "      fill: #FFFFFF;\n",
              "    }\n",
              "  </style>\n",
              "\n",
              "      <script>\n",
              "        const buttonEl =\n",
              "          document.querySelector('#df-c7005eff-bf3b-4667-a78c-4982393cfef7 button.colab-df-convert');\n",
              "        buttonEl.style.display =\n",
              "          google.colab.kernel.accessAllowed ? 'block' : 'none';\n",
              "\n",
              "        async function convertToInteractive(key) {\n",
              "          const element = document.querySelector('#df-c7005eff-bf3b-4667-a78c-4982393cfef7');\n",
              "          const dataTable =\n",
              "            await google.colab.kernel.invokeFunction('convertToInteractive',\n",
              "                                                     [key], {});\n",
              "          if (!dataTable) return;\n",
              "\n",
              "          const docLinkHtml = 'Like what you see? Visit the ' +\n",
              "            '<a target=\"_blank\" href=https://colab.research.google.com/notebooks/data_table.ipynb>data table notebook</a>'\n",
              "            + ' to learn more about interactive tables.';\n",
              "          element.innerHTML = '';\n",
              "          dataTable['output_type'] = 'display_data';\n",
              "          await google.colab.output.renderOutput(dataTable, element);\n",
              "          const docLink = document.createElement('div');\n",
              "          docLink.innerHTML = docLinkHtml;\n",
              "          element.appendChild(docLink);\n",
              "        }\n",
              "      </script>\n",
              "    </div>\n",
              "  </div>\n",
              "  "
            ]
          },
          "metadata": {},
          "execution_count": 3
        }
      ]
    },
    {
      "cell_type": "code",
      "source": [
        "data.drop(['Unnamed: 0'], axis=1, inplace=True)"
      ],
      "metadata": {
        "id": "rwVIA9VaSwuh"
      },
      "execution_count": 4,
      "outputs": []
    },
    {
      "cell_type": "code",
      "source": [
        "data.rename(columns = {'DATE_BINS':'MONTH_BINS'}, inplace = True)"
      ],
      "metadata": {
        "id": "_Q243_wVXPKS"
      },
      "execution_count": 5,
      "outputs": []
    },
    {
      "cell_type": "code",
      "source": [
        "# using the copy of the dataframe\n",
        "df1 = data.copy()"
      ],
      "metadata": {
        "id": "3XP-RdpQXvJx"
      },
      "execution_count": 6,
      "outputs": []
    },
    {
      "cell_type": "code",
      "source": [
        "df1.head(3)"
      ],
      "metadata": {
        "colab": {
          "base_uri": "https://localhost:8080/",
          "height": 239
        },
        "id": "J98QkA0Hfl26",
        "outputId": "50179ece-eac1-4116-d24e-b873337f8153"
      },
      "execution_count": 12,
      "outputs": [
        {
          "output_type": "execute_result",
          "data": {
            "text/plain": [
              "         DATE  STORE_NBR  LYLTY_CARD_NBR  TXN_ID  PROD_NBR  \\\n",
              "0  2018-10-17          1            1000       1         5   \n",
              "1  2019-05-14          1            1307     348        66   \n",
              "2  2019-05-20          1            1343     383        61   \n",
              "\n",
              "                                PROD_NAME  PROD_QTY  TOT_SALES  \\\n",
              "0  Natural Chip        Compny SeaSalt175g         2        6.0   \n",
              "1                CCs Nacho Cheese    175g         3        6.3   \n",
              "2  Smiths Crinkle Cut  Chips Chicken 170g         2        2.9   \n",
              "\n",
              "                LIFESTAGE PREMIUM_CUSTOMER PACK_SIZE       BRAND_NAME  \\\n",
              "0   YOUNG SINGLES/COUPLES          Premium      175g  Natural Chip Co   \n",
              "1  MIDAGE SINGLES/COUPLES           Budget      175g              CCs   \n",
              "2  MIDAGE SINGLES/COUPLES           Budget      170g           Smiths   \n",
              "\n",
              "     MONTH_BINS  \n",
              "0  October 2018  \n",
              "1      May 2019  \n",
              "2      May 2019  "
            ],
            "text/html": [
              "\n",
              "  <div id=\"df-a588e7c6-b320-4669-9ecd-a0ccdf2850b2\">\n",
              "    <div class=\"colab-df-container\">\n",
              "      <div>\n",
              "<style scoped>\n",
              "    .dataframe tbody tr th:only-of-type {\n",
              "        vertical-align: middle;\n",
              "    }\n",
              "\n",
              "    .dataframe tbody tr th {\n",
              "        vertical-align: top;\n",
              "    }\n",
              "\n",
              "    .dataframe thead th {\n",
              "        text-align: right;\n",
              "    }\n",
              "</style>\n",
              "<table border=\"1\" class=\"dataframe\">\n",
              "  <thead>\n",
              "    <tr style=\"text-align: right;\">\n",
              "      <th></th>\n",
              "      <th>DATE</th>\n",
              "      <th>STORE_NBR</th>\n",
              "      <th>LYLTY_CARD_NBR</th>\n",
              "      <th>TXN_ID</th>\n",
              "      <th>PROD_NBR</th>\n",
              "      <th>PROD_NAME</th>\n",
              "      <th>PROD_QTY</th>\n",
              "      <th>TOT_SALES</th>\n",
              "      <th>LIFESTAGE</th>\n",
              "      <th>PREMIUM_CUSTOMER</th>\n",
              "      <th>PACK_SIZE</th>\n",
              "      <th>BRAND_NAME</th>\n",
              "      <th>MONTH_BINS</th>\n",
              "    </tr>\n",
              "  </thead>\n",
              "  <tbody>\n",
              "    <tr>\n",
              "      <th>0</th>\n",
              "      <td>2018-10-17</td>\n",
              "      <td>1</td>\n",
              "      <td>1000</td>\n",
              "      <td>1</td>\n",
              "      <td>5</td>\n",
              "      <td>Natural Chip        Compny SeaSalt175g</td>\n",
              "      <td>2</td>\n",
              "      <td>6.0</td>\n",
              "      <td>YOUNG SINGLES/COUPLES</td>\n",
              "      <td>Premium</td>\n",
              "      <td>175g</td>\n",
              "      <td>Natural Chip Co</td>\n",
              "      <td>October 2018</td>\n",
              "    </tr>\n",
              "    <tr>\n",
              "      <th>1</th>\n",
              "      <td>2019-05-14</td>\n",
              "      <td>1</td>\n",
              "      <td>1307</td>\n",
              "      <td>348</td>\n",
              "      <td>66</td>\n",
              "      <td>CCs Nacho Cheese    175g</td>\n",
              "      <td>3</td>\n",
              "      <td>6.3</td>\n",
              "      <td>MIDAGE SINGLES/COUPLES</td>\n",
              "      <td>Budget</td>\n",
              "      <td>175g</td>\n",
              "      <td>CCs</td>\n",
              "      <td>May 2019</td>\n",
              "    </tr>\n",
              "    <tr>\n",
              "      <th>2</th>\n",
              "      <td>2019-05-20</td>\n",
              "      <td>1</td>\n",
              "      <td>1343</td>\n",
              "      <td>383</td>\n",
              "      <td>61</td>\n",
              "      <td>Smiths Crinkle Cut  Chips Chicken 170g</td>\n",
              "      <td>2</td>\n",
              "      <td>2.9</td>\n",
              "      <td>MIDAGE SINGLES/COUPLES</td>\n",
              "      <td>Budget</td>\n",
              "      <td>170g</td>\n",
              "      <td>Smiths</td>\n",
              "      <td>May 2019</td>\n",
              "    </tr>\n",
              "  </tbody>\n",
              "</table>\n",
              "</div>\n",
              "      <button class=\"colab-df-convert\" onclick=\"convertToInteractive('df-a588e7c6-b320-4669-9ecd-a0ccdf2850b2')\"\n",
              "              title=\"Convert this dataframe to an interactive table.\"\n",
              "              style=\"display:none;\">\n",
              "        \n",
              "  <svg xmlns=\"http://www.w3.org/2000/svg\" height=\"24px\"viewBox=\"0 0 24 24\"\n",
              "       width=\"24px\">\n",
              "    <path d=\"M0 0h24v24H0V0z\" fill=\"none\"/>\n",
              "    <path d=\"M18.56 5.44l.94 2.06.94-2.06 2.06-.94-2.06-.94-.94-2.06-.94 2.06-2.06.94zm-11 1L8.5 8.5l.94-2.06 2.06-.94-2.06-.94L8.5 2.5l-.94 2.06-2.06.94zm10 10l.94 2.06.94-2.06 2.06-.94-2.06-.94-.94-2.06-.94 2.06-2.06.94z\"/><path d=\"M17.41 7.96l-1.37-1.37c-.4-.4-.92-.59-1.43-.59-.52 0-1.04.2-1.43.59L10.3 9.45l-7.72 7.72c-.78.78-.78 2.05 0 2.83L4 21.41c.39.39.9.59 1.41.59.51 0 1.02-.2 1.41-.59l7.78-7.78 2.81-2.81c.8-.78.8-2.07 0-2.86zM5.41 20L4 18.59l7.72-7.72 1.47 1.35L5.41 20z\"/>\n",
              "  </svg>\n",
              "      </button>\n",
              "      \n",
              "  <style>\n",
              "    .colab-df-container {\n",
              "      display:flex;\n",
              "      flex-wrap:wrap;\n",
              "      gap: 12px;\n",
              "    }\n",
              "\n",
              "    .colab-df-convert {\n",
              "      background-color: #E8F0FE;\n",
              "      border: none;\n",
              "      border-radius: 50%;\n",
              "      cursor: pointer;\n",
              "      display: none;\n",
              "      fill: #1967D2;\n",
              "      height: 32px;\n",
              "      padding: 0 0 0 0;\n",
              "      width: 32px;\n",
              "    }\n",
              "\n",
              "    .colab-df-convert:hover {\n",
              "      background-color: #E2EBFA;\n",
              "      box-shadow: 0px 1px 2px rgba(60, 64, 67, 0.3), 0px 1px 3px 1px rgba(60, 64, 67, 0.15);\n",
              "      fill: #174EA6;\n",
              "    }\n",
              "\n",
              "    [theme=dark] .colab-df-convert {\n",
              "      background-color: #3B4455;\n",
              "      fill: #D2E3FC;\n",
              "    }\n",
              "\n",
              "    [theme=dark] .colab-df-convert:hover {\n",
              "      background-color: #434B5C;\n",
              "      box-shadow: 0px 1px 3px 1px rgba(0, 0, 0, 0.15);\n",
              "      filter: drop-shadow(0px 1px 2px rgba(0, 0, 0, 0.3));\n",
              "      fill: #FFFFFF;\n",
              "    }\n",
              "  </style>\n",
              "\n",
              "      <script>\n",
              "        const buttonEl =\n",
              "          document.querySelector('#df-a588e7c6-b320-4669-9ecd-a0ccdf2850b2 button.colab-df-convert');\n",
              "        buttonEl.style.display =\n",
              "          google.colab.kernel.accessAllowed ? 'block' : 'none';\n",
              "\n",
              "        async function convertToInteractive(key) {\n",
              "          const element = document.querySelector('#df-a588e7c6-b320-4669-9ecd-a0ccdf2850b2');\n",
              "          const dataTable =\n",
              "            await google.colab.kernel.invokeFunction('convertToInteractive',\n",
              "                                                     [key], {});\n",
              "          if (!dataTable) return;\n",
              "\n",
              "          const docLinkHtml = 'Like what you see? Visit the ' +\n",
              "            '<a target=\"_blank\" href=https://colab.research.google.com/notebooks/data_table.ipynb>data table notebook</a>'\n",
              "            + ' to learn more about interactive tables.';\n",
              "          element.innerHTML = '';\n",
              "          dataTable['output_type'] = 'display_data';\n",
              "          await google.colab.output.renderOutput(dataTable, element);\n",
              "          const docLink = document.createElement('div');\n",
              "          docLink.innerHTML = docLinkHtml;\n",
              "          element.appendChild(docLink);\n",
              "        }\n",
              "      </script>\n",
              "    </div>\n",
              "  </div>\n",
              "  "
            ]
          },
          "metadata": {},
          "execution_count": 12
        }
      ]
    },
    {
      "cell_type": "code",
      "source": [],
      "metadata": {
        "id": "1AOJ5ybXflwI"
      },
      "execution_count": null,
      "outputs": []
    },
    {
      "cell_type": "code",
      "source": [],
      "metadata": {
        "id": "LNnrrrH3flkm"
      },
      "execution_count": null,
      "outputs": []
    },
    {
      "cell_type": "code",
      "source": [],
      "metadata": {
        "id": "vUmVMMJUflhA"
      },
      "execution_count": null,
      "outputs": []
    },
    {
      "cell_type": "code",
      "source": [],
      "metadata": {
        "id": "mObexY4VflaB"
      },
      "execution_count": null,
      "outputs": []
    },
    {
      "cell_type": "code",
      "source": [],
      "metadata": {
        "id": "JIRsPMBWflTB"
      },
      "execution_count": null,
      "outputs": []
    },
    {
      "cell_type": "code",
      "source": [],
      "metadata": {
        "id": "LxnlYSDMflNN"
      },
      "execution_count": null,
      "outputs": []
    },
    {
      "cell_type": "code",
      "source": [],
      "metadata": {
        "id": "DHsFPAFWflFq"
      },
      "execution_count": null,
      "outputs": []
    },
    {
      "cell_type": "code",
      "source": [],
      "metadata": {
        "id": "MpS0xY-Hfk90"
      },
      "execution_count": null,
      "outputs": []
    },
    {
      "cell_type": "code",
      "source": [],
      "metadata": {
        "id": "Omct-4Ytfk2k"
      },
      "execution_count": null,
      "outputs": []
    },
    {
      "cell_type": "code",
      "source": [],
      "metadata": {
        "id": "k5GU0edqfkwX"
      },
      "execution_count": null,
      "outputs": []
    },
    {
      "cell_type": "code",
      "source": [
        "# Trial stores\n",
        "store_77 = df1[df1[\"STORE_NBR\"] == 77]\n",
        "store_86 = df1[df1[\"STORE_NBR\"] == 86]\n",
        "store_88 = df1[df1[\"STORE_NBR\"] == 88]"
      ],
      "metadata": {
        "id": "-QnMtLtfSw2E"
      },
      "execution_count": 7,
      "outputs": []
    },
    {
      "cell_type": "code",
      "source": [
        "# checking unique months\n",
        "\n",
        "display(pd.unique(store_77[\"MONTH_BINS\"]))\n",
        "print(\"\")\n",
        "display(pd.unique(store_86[\"MONTH_BINS\"]))\n",
        "print(\"\")\n",
        "display(pd.unique(store_88[\"MONTH_BINS\"]))"
      ],
      "metadata": {
        "colab": {
          "base_uri": "https://localhost:8080/",
          "height": 260
        },
        "id": "9KIOWLb5Sw89",
        "outputId": "7a3d61fd-0855-4816-f761-c630f1b6ec2e"
      },
      "execution_count": 8,
      "outputs": [
        {
          "output_type": "display_data",
          "data": {
            "text/plain": [
              "array(['June 2019', 'March 2019', 'April 2019', 'July 2018',\n",
              "       'February 2019', 'October 2018', 'September 2018', 'August 2018',\n",
              "       'December 2018', 'November 2018', 'May 2019', 'January 2019'],\n",
              "      dtype=object)"
            ]
          },
          "metadata": {}
        },
        {
          "output_type": "stream",
          "name": "stdout",
          "text": [
            "\n"
          ]
        },
        {
          "output_type": "display_data",
          "data": {
            "text/plain": [
              "array(['January 2019', 'February 2019', 'March 2019', 'May 2019',\n",
              "       'November 2018', 'December 2018', 'April 2019', 'September 2018',\n",
              "       'October 2018', 'July 2018', 'June 2019', 'August 2018'],\n",
              "      dtype=object)"
            ]
          },
          "metadata": {}
        },
        {
          "output_type": "stream",
          "name": "stdout",
          "text": [
            "\n"
          ]
        },
        {
          "output_type": "display_data",
          "data": {
            "text/plain": [
              "array(['May 2019', 'September 2018', 'October 2018', 'February 2019',\n",
              "       'August 2018', 'November 2018', 'December 2018', 'April 2019',\n",
              "       'June 2019', 'July 2018', 'March 2019', 'January 2019'],\n",
              "      dtype=object)"
            ]
          },
          "metadata": {}
        }
      ]
    },
    {
      "cell_type": "code",
      "source": [
        "display(pd.unique(df1[\"STORE_NBR\"]))\n",
        "len(pd.unique(df1[\"STORE_NBR\"]))"
      ],
      "metadata": {
        "colab": {
          "base_uri": "https://localhost:8080/",
          "height": 399
        },
        "id": "N4vBl-ZgSxEX",
        "outputId": "5158d4ff-bc33-451e-9ac2-a798c47c85bd"
      },
      "execution_count": 9,
      "outputs": [
        {
          "output_type": "display_data",
          "data": {
            "text/plain": [
              "array([  1,   2,   4,   5,   7,   8,   9,  13,  19,  20,  22,  23,  25,\n",
              "        33,  36,  38,  39,  41,  43,  45,  51,  54,  55,  56,  58,  59,\n",
              "        60,  62,  63,  67,  71,  72,  74,  75,  80,  81,  82,  83,  84,\n",
              "        88,  94,  96,  97, 101, 102, 104, 106, 109, 110, 111, 112, 114,\n",
              "       115, 116, 118, 119, 120, 122, 125, 128, 129, 130, 133, 149, 151,\n",
              "       152, 153, 156, 157, 160, 161, 164, 166, 167, 168, 169, 172, 173,\n",
              "       175, 178, 181, 184, 186, 187, 191, 194, 196, 197, 200, 205, 207,\n",
              "       208, 209, 212, 214, 215, 216, 217, 219, 222, 223, 225, 226, 227,\n",
              "       235, 236, 237, 241, 243, 246, 247, 248, 250, 253, 255, 256, 257,\n",
              "       262, 265, 266, 269, 271,  77,   3,   6,  10,  12,  15,  16,  17,\n",
              "        18,  21,  24,  26,  27,  28,  29,  30,  32,  34,  35,  37,  40,\n",
              "        46,  47,  48,  49,  50,  52,  53,  57,  61,  64,  65,  66,  68,\n",
              "        69,  70,  73,  78,  79,  86,  87,  89,  90,  91,  93,  95,  98,\n",
              "       100, 103, 105, 107, 108, 113, 117, 121, 123, 124, 126, 127, 131,\n",
              "       132, 134, 135, 136, 137, 138, 140, 141, 142, 143, 144, 145, 147,\n",
              "       148, 150, 154, 155, 158, 162, 163, 165, 170, 171, 174, 176, 177,\n",
              "       179, 180, 182, 183, 185, 188, 189, 190, 192, 195, 199, 201, 202,\n",
              "       203, 210, 213, 218, 220, 221, 224, 228, 229, 230, 231, 232, 233,\n",
              "       234, 238, 239, 240, 242, 244, 245, 249, 251, 254, 259, 260, 261,\n",
              "       263, 264, 267, 268, 270, 272,  14,  42,  44,  92,  99, 139, 146,\n",
              "       159, 198, 204, 258, 211,  31,  85,  76,  11, 252, 193, 206])"
            ]
          },
          "metadata": {}
        },
        {
          "output_type": "execute_result",
          "data": {
            "text/plain": [
              "272"
            ]
          },
          "metadata": {},
          "execution_count": 9
        }
      ]
    },
    {
      "cell_type": "code",
      "source": [
        "a = pd.unique(df1[\"STORE_NBR\"])\n",
        "\n",
        "def find_str():\n",
        "  for i in a:\n",
        "    print(f\"This is for store number {i}\")\n",
        "    print(df1[df1['STORE_NBR'] == i])\n",
        "    print(\" \")"
      ],
      "metadata": {
        "id": "2xKKvzumSxLn"
      },
      "execution_count": 10,
      "outputs": []
    },
    {
      "cell_type": "code",
      "source": [
        "#find_str()"
      ],
      "metadata": {
        "id": "kB5rOePSSxgj"
      },
      "execution_count": 11,
      "outputs": []
    },
    {
      "cell_type": "code",
      "source": [],
      "metadata": {
        "id": "HO45jQHSSxvx"
      },
      "execution_count": 11,
      "outputs": []
    }
  ]
}